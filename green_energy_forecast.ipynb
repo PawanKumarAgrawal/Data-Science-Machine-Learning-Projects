{
 "cells": [
  {
   "cell_type": "code",
   "execution_count": 1,
   "metadata": {
    "_cell_guid": "b1076dfc-b9ad-4769-8c92-a6c4dae69d19",
    "_uuid": "8f2839f25d086af736a60e9eeb907d3b93b6e0e5",
    "execution": {
     "iopub.execute_input": "2022-11-19T15:58:59.463641Z",
     "iopub.status.busy": "2022-11-19T15:58:59.462579Z",
     "iopub.status.idle": "2022-11-19T15:58:59.480039Z",
     "shell.execute_reply": "2022-11-19T15:58:59.478966Z",
     "shell.execute_reply.started": "2022-11-19T15:58:59.463591Z"
    }
   },
   "outputs": [],
   "source": [
    "# This Python 3 environment comes with many helpful analytics libraries installed\n",
    "# It is defined by the kaggle/python Docker image: https://github.com/kaggle/docker-python\n",
    "# For example, here's several helpful packages to load\n",
    "\n",
    "import numpy as np # linear algebra\n",
    "import pandas as pd # data processing, CSV file I/O (e.g. pd.read_csv)\n",
    "\n",
    "# Input data files are available in the read-only \"../input/\" directory\n",
    "# For example, running this (by clicking run or pressing Shift+Enter) will list all files under the input directory\n",
    "\n",
    "import os\n",
    "for dirname, _, filenames in os.walk('/kaggle/input'):\n",
    "    for filename in filenames:\n",
    "        print(os.path.join(dirname, filename))\n",
    "\n",
    "# You can write up to 20GB to the current directory (/kaggle/working/) that gets preserved as output when you create a version using \"Save & Run All\" \n",
    "# You can also write temporary files to /kaggle/temp/, but they won't be saved outside of the current session"
   ]
  },
  {
   "cell_type": "code",
   "execution_count": 2,
   "metadata": {
    "execution": {
     "iopub.execute_input": "2022-11-19T15:58:59.482844Z",
     "iopub.status.busy": "2022-11-19T15:58:59.482200Z",
     "iopub.status.idle": "2022-11-19T15:59:10.888157Z",
     "shell.execute_reply": "2022-11-19T15:59:10.886657Z",
     "shell.execute_reply.started": "2022-11-19T15:58:59.482807Z"
    }
   },
   "outputs": [
    {
     "name": "stdout",
     "output_type": "stream",
     "text": [
      "Requirement already satisfied: catboost in c:\\users\\pawan kumar agrawal\\anaconda3\\lib\\site-packages (1.1.1)\n",
      "Requirement already satisfied: numpy>=1.16.0 in c:\\users\\pawan kumar agrawal\\anaconda3\\lib\\site-packages (from catboost) (1.21.5)\n",
      "Requirement already satisfied: six in c:\\users\\pawan kumar agrawal\\anaconda3\\lib\\site-packages (from catboost) (1.16.0)\n",
      "Requirement already satisfied: pandas>=0.24.0 in c:\\users\\pawan kumar agrawal\\anaconda3\\lib\\site-packages (from catboost) (1.4.2)\n",
      "Requirement already satisfied: graphviz in c:\\users\\pawan kumar agrawal\\anaconda3\\lib\\site-packages (from catboost) (0.20.1)\n",
      "Requirement already satisfied: plotly in c:\\users\\pawan kumar agrawal\\anaconda3\\lib\\site-packages (from catboost) (5.6.0)\n",
      "Requirement already satisfied: matplotlib in c:\\users\\pawan kumar agrawal\\anaconda3\\lib\\site-packages (from catboost) (3.5.1)\n",
      "Requirement already satisfied: scipy in c:\\users\\pawan kumar agrawal\\anaconda3\\lib\\site-packages (from catboost) (1.7.3)\n",
      "Requirement already satisfied: python-dateutil>=2.8.1 in c:\\users\\pawan kumar agrawal\\anaconda3\\lib\\site-packages (from pandas>=0.24.0->catboost) (2.8.2)\n",
      "Requirement already satisfied: pytz>=2020.1 in c:\\users\\pawan kumar agrawal\\anaconda3\\lib\\site-packages (from pandas>=0.24.0->catboost) (2021.3)\n",
      "Requirement already satisfied: cycler>=0.10 in c:\\users\\pawan kumar agrawal\\anaconda3\\lib\\site-packages (from matplotlib->catboost) (0.11.0)\n",
      "Requirement already satisfied: pillow>=6.2.0 in c:\\users\\pawan kumar agrawal\\anaconda3\\lib\\site-packages (from matplotlib->catboost) (9.0.1)\n",
      "Requirement already satisfied: packaging>=20.0 in c:\\users\\pawan kumar agrawal\\anaconda3\\lib\\site-packages (from matplotlib->catboost) (21.3)\n",
      "Requirement already satisfied: kiwisolver>=1.0.1 in c:\\users\\pawan kumar agrawal\\anaconda3\\lib\\site-packages (from matplotlib->catboost) (1.3.2)\n",
      "Requirement already satisfied: pyparsing>=2.2.1 in c:\\users\\pawan kumar agrawal\\anaconda3\\lib\\site-packages (from matplotlib->catboost) (3.0.4)\n",
      "Requirement already satisfied: fonttools>=4.22.0 in c:\\users\\pawan kumar agrawal\\anaconda3\\lib\\site-packages (from matplotlib->catboost) (4.25.0)\n",
      "Requirement already satisfied: tenacity>=6.2.0 in c:\\users\\pawan kumar agrawal\\anaconda3\\lib\\site-packages (from plotly->catboost) (8.0.1)\n"
     ]
    }
   ],
   "source": [
    "!pip install catboost\n",
    "import matplotlib.pyplot as plt\n",
    "import seaborn as sns\n",
    "import datetime as dt"
   ]
  },
  {
   "cell_type": "code",
   "execution_count": 3,
   "metadata": {
    "execution": {
     "iopub.execute_input": "2022-11-19T15:59:10.890448Z",
     "iopub.status.busy": "2022-11-19T15:59:10.889966Z",
     "iopub.status.idle": "2022-11-19T15:59:10.998104Z",
     "shell.execute_reply": "2022-11-19T15:59:10.996776Z",
     "shell.execute_reply.started": "2022-11-19T15:59:10.890399Z"
    }
   },
   "outputs": [
    {
     "data": {
      "text/html": [
       "<div>\n",
       "<style scoped>\n",
       "    .dataframe tbody tr th:only-of-type {\n",
       "        vertical-align: middle;\n",
       "    }\n",
       "\n",
       "    .dataframe tbody tr th {\n",
       "        vertical-align: top;\n",
       "    }\n",
       "\n",
       "    .dataframe thead th {\n",
       "        text-align: right;\n",
       "    }\n",
       "</style>\n",
       "<table border=\"1\" class=\"dataframe\">\n",
       "  <thead>\n",
       "    <tr style=\"text-align: right;\">\n",
       "      <th></th>\n",
       "      <th>row_id</th>\n",
       "      <th>datetime</th>\n",
       "      <th>energy</th>\n",
       "    </tr>\n",
       "  </thead>\n",
       "  <tbody>\n",
       "    <tr>\n",
       "      <th>94962</th>\n",
       "      <td>94963</td>\n",
       "      <td>2018-12-30 18:00:00</td>\n",
       "      <td>2414.6892</td>\n",
       "    </tr>\n",
       "    <tr>\n",
       "      <th>94963</th>\n",
       "      <td>94964</td>\n",
       "      <td>2018-12-30 19:00:00</td>\n",
       "      <td>2364.2212</td>\n",
       "    </tr>\n",
       "    <tr>\n",
       "      <th>94964</th>\n",
       "      <td>94965</td>\n",
       "      <td>2018-12-30 20:00:00</td>\n",
       "      <td>2285.9276</td>\n",
       "    </tr>\n",
       "    <tr>\n",
       "      <th>94965</th>\n",
       "      <td>94966</td>\n",
       "      <td>2018-12-30 21:00:00</td>\n",
       "      <td>2180.8996</td>\n",
       "    </tr>\n",
       "    <tr>\n",
       "      <th>94966</th>\n",
       "      <td>94967</td>\n",
       "      <td>2018-12-30 22:00:00</td>\n",
       "      <td>2134.6600</td>\n",
       "    </tr>\n",
       "    <tr>\n",
       "      <th>94967</th>\n",
       "      <td>94968</td>\n",
       "      <td>2018-12-30 23:00:00</td>\n",
       "      <td>1998.5328</td>\n",
       "    </tr>\n",
       "    <tr>\n",
       "      <th>94968</th>\n",
       "      <td>94969</td>\n",
       "      <td>2018-12-31 00:00:00</td>\n",
       "      <td>1827.8964</td>\n",
       "    </tr>\n",
       "    <tr>\n",
       "      <th>94969</th>\n",
       "      <td>94970</td>\n",
       "      <td>2018-12-31 01:00:00</td>\n",
       "      <td>1713.0476</td>\n",
       "    </tr>\n",
       "    <tr>\n",
       "      <th>94970</th>\n",
       "      <td>94971</td>\n",
       "      <td>2018-12-31 02:00:00</td>\n",
       "      <td>1619.6136</td>\n",
       "    </tr>\n",
       "    <tr>\n",
       "      <th>94971</th>\n",
       "      <td>94972</td>\n",
       "      <td>2018-12-31 03:00:00</td>\n",
       "      <td>1555.6420</td>\n",
       "    </tr>\n",
       "    <tr>\n",
       "      <th>94972</th>\n",
       "      <td>94973</td>\n",
       "      <td>2018-12-31 04:00:00</td>\n",
       "      <td>1510.2208</td>\n",
       "    </tr>\n",
       "    <tr>\n",
       "      <th>94973</th>\n",
       "      <td>94974</td>\n",
       "      <td>2018-12-31 05:00:00</td>\n",
       "      <td>1491.8068</td>\n",
       "    </tr>\n",
       "    <tr>\n",
       "      <th>94974</th>\n",
       "      <td>94975</td>\n",
       "      <td>2018-12-31 06:00:00</td>\n",
       "      <td>1489.6244</td>\n",
       "    </tr>\n",
       "    <tr>\n",
       "      <th>94975</th>\n",
       "      <td>94976</td>\n",
       "      <td>2018-12-31 07:00:00</td>\n",
       "      <td>1487.3056</td>\n",
       "    </tr>\n",
       "    <tr>\n",
       "      <th>94976</th>\n",
       "      <td>94977</td>\n",
       "      <td>2018-12-31 08:00:00</td>\n",
       "      <td>1526.0432</td>\n",
       "    </tr>\n",
       "    <tr>\n",
       "      <th>94977</th>\n",
       "      <td>94978</td>\n",
       "      <td>2018-12-31 09:00:00</td>\n",
       "      <td>1665.3076</td>\n",
       "    </tr>\n",
       "    <tr>\n",
       "      <th>94978</th>\n",
       "      <td>94979</td>\n",
       "      <td>2018-12-31 10:00:00</td>\n",
       "      <td>1814.2564</td>\n",
       "    </tr>\n",
       "    <tr>\n",
       "      <th>94979</th>\n",
       "      <td>94980</td>\n",
       "      <td>2018-12-31 11:00:00</td>\n",
       "      <td>1937.2892</td>\n",
       "    </tr>\n",
       "    <tr>\n",
       "      <th>94980</th>\n",
       "      <td>94981</td>\n",
       "      <td>2018-12-31 12:00:00</td>\n",
       "      <td>2089.6480</td>\n",
       "    </tr>\n",
       "    <tr>\n",
       "      <th>94981</th>\n",
       "      <td>94982</td>\n",
       "      <td>2018-12-31 13:00:00</td>\n",
       "      <td>2217.0456</td>\n",
       "    </tr>\n",
       "    <tr>\n",
       "      <th>94982</th>\n",
       "      <td>94983</td>\n",
       "      <td>2018-12-31 14:00:00</td>\n",
       "      <td>2318.5272</td>\n",
       "    </tr>\n",
       "    <tr>\n",
       "      <th>94983</th>\n",
       "      <td>94984</td>\n",
       "      <td>2018-12-31 15:00:00</td>\n",
       "      <td>2396.4116</td>\n",
       "    </tr>\n",
       "    <tr>\n",
       "      <th>94984</th>\n",
       "      <td>94985</td>\n",
       "      <td>2018-12-31 16:00:00</td>\n",
       "      <td>2461.6108</td>\n",
       "    </tr>\n",
       "    <tr>\n",
       "      <th>94985</th>\n",
       "      <td>94986</td>\n",
       "      <td>2018-12-31 17:00:00</td>\n",
       "      <td>2505.2588</td>\n",
       "    </tr>\n",
       "    <tr>\n",
       "      <th>94986</th>\n",
       "      <td>94987</td>\n",
       "      <td>2018-12-31 18:00:00</td>\n",
       "      <td>2547.6792</td>\n",
       "    </tr>\n",
       "    <tr>\n",
       "      <th>94987</th>\n",
       "      <td>94988</td>\n",
       "      <td>2018-12-31 19:00:00</td>\n",
       "      <td>2528.4468</td>\n",
       "    </tr>\n",
       "    <tr>\n",
       "      <th>94988</th>\n",
       "      <td>94989</td>\n",
       "      <td>2018-12-31 20:00:00</td>\n",
       "      <td>2461.8836</td>\n",
       "    </tr>\n",
       "    <tr>\n",
       "      <th>94989</th>\n",
       "      <td>94990</td>\n",
       "      <td>2018-12-31 21:00:00</td>\n",
       "      <td>2365.9944</td>\n",
       "    </tr>\n",
       "    <tr>\n",
       "      <th>94990</th>\n",
       "      <td>94991</td>\n",
       "      <td>2018-12-31 22:00:00</td>\n",
       "      <td>2342.9428</td>\n",
       "    </tr>\n",
       "    <tr>\n",
       "      <th>94991</th>\n",
       "      <td>94992</td>\n",
       "      <td>2018-12-31 23:00:00</td>\n",
       "      <td>2180.2176</td>\n",
       "    </tr>\n",
       "  </tbody>\n",
       "</table>\n",
       "</div>"
      ],
      "text/plain": [
       "       row_id             datetime     energy\n",
       "94962   94963  2018-12-30 18:00:00  2414.6892\n",
       "94963   94964  2018-12-30 19:00:00  2364.2212\n",
       "94964   94965  2018-12-30 20:00:00  2285.9276\n",
       "94965   94966  2018-12-30 21:00:00  2180.8996\n",
       "94966   94967  2018-12-30 22:00:00  2134.6600\n",
       "94967   94968  2018-12-30 23:00:00  1998.5328\n",
       "94968   94969  2018-12-31 00:00:00  1827.8964\n",
       "94969   94970  2018-12-31 01:00:00  1713.0476\n",
       "94970   94971  2018-12-31 02:00:00  1619.6136\n",
       "94971   94972  2018-12-31 03:00:00  1555.6420\n",
       "94972   94973  2018-12-31 04:00:00  1510.2208\n",
       "94973   94974  2018-12-31 05:00:00  1491.8068\n",
       "94974   94975  2018-12-31 06:00:00  1489.6244\n",
       "94975   94976  2018-12-31 07:00:00  1487.3056\n",
       "94976   94977  2018-12-31 08:00:00  1526.0432\n",
       "94977   94978  2018-12-31 09:00:00  1665.3076\n",
       "94978   94979  2018-12-31 10:00:00  1814.2564\n",
       "94979   94980  2018-12-31 11:00:00  1937.2892\n",
       "94980   94981  2018-12-31 12:00:00  2089.6480\n",
       "94981   94982  2018-12-31 13:00:00  2217.0456\n",
       "94982   94983  2018-12-31 14:00:00  2318.5272\n",
       "94983   94984  2018-12-31 15:00:00  2396.4116\n",
       "94984   94985  2018-12-31 16:00:00  2461.6108\n",
       "94985   94986  2018-12-31 17:00:00  2505.2588\n",
       "94986   94987  2018-12-31 18:00:00  2547.6792\n",
       "94987   94988  2018-12-31 19:00:00  2528.4468\n",
       "94988   94989  2018-12-31 20:00:00  2461.8836\n",
       "94989   94990  2018-12-31 21:00:00  2365.9944\n",
       "94990   94991  2018-12-31 22:00:00  2342.9428\n",
       "94991   94992  2018-12-31 23:00:00  2180.2176"
      ]
     },
     "execution_count": 3,
     "metadata": {},
     "output_type": "execute_result"
    }
   ],
   "source": [
    "df_train = pd.read_csv('train_IxoE5JN.csv')\n",
    "df_train.tail(30)"
   ]
  },
  {
   "cell_type": "code",
   "execution_count": 4,
   "metadata": {
    "execution": {
     "iopub.execute_input": "2022-11-19T15:59:11.001953Z",
     "iopub.status.busy": "2022-11-19T15:59:11.001140Z",
     "iopub.status.idle": "2022-11-19T15:59:11.026129Z",
     "shell.execute_reply": "2022-11-19T15:59:11.024682Z",
     "shell.execute_reply.started": "2022-11-19T15:59:11.001908Z"
    }
   },
   "outputs": [
    {
     "name": "stdout",
     "output_type": "stream",
     "text": [
      "<class 'pandas.core.frame.DataFrame'>\n",
      "RangeIndex: 94992 entries, 0 to 94991\n",
      "Data columns (total 3 columns):\n",
      " #   Column    Non-Null Count  Dtype  \n",
      "---  ------    --------------  -----  \n",
      " 0   row_id    94992 non-null  int64  \n",
      " 1   datetime  94992 non-null  object \n",
      " 2   energy    93092 non-null  float64\n",
      "dtypes: float64(1), int64(1), object(1)\n",
      "memory usage: 2.2+ MB\n"
     ]
    }
   ],
   "source": [
    "df_train.info()"
   ]
  },
  {
   "cell_type": "code",
   "execution_count": 5,
   "metadata": {
    "execution": {
     "iopub.execute_input": "2022-11-19T15:59:11.027794Z",
     "iopub.status.busy": "2022-11-19T15:59:11.027433Z",
     "iopub.status.idle": "2022-11-19T15:59:11.045039Z",
     "shell.execute_reply": "2022-11-19T15:59:11.043644Z",
     "shell.execute_reply.started": "2022-11-19T15:59:11.027762Z"
    }
   },
   "outputs": [
    {
     "data": {
      "text/html": [
       "<div>\n",
       "<style scoped>\n",
       "    .dataframe tbody tr th:only-of-type {\n",
       "        vertical-align: middle;\n",
       "    }\n",
       "\n",
       "    .dataframe tbody tr th {\n",
       "        vertical-align: top;\n",
       "    }\n",
       "\n",
       "    .dataframe thead th {\n",
       "        text-align: right;\n",
       "    }\n",
       "</style>\n",
       "<table border=\"1\" class=\"dataframe\">\n",
       "  <thead>\n",
       "    <tr style=\"text-align: right;\">\n",
       "      <th></th>\n",
       "      <th>row_id</th>\n",
       "      <th>datetime</th>\n",
       "      <th>energy</th>\n",
       "    </tr>\n",
       "  </thead>\n",
       "  <tbody>\n",
       "    <tr>\n",
       "      <th>0</th>\n",
       "      <td>1</td>\n",
       "      <td>2008-03-01 00:00:00</td>\n",
       "      <td>1259.985563</td>\n",
       "    </tr>\n",
       "    <tr>\n",
       "      <th>1</th>\n",
       "      <td>2</td>\n",
       "      <td>2008-03-01 01:00:00</td>\n",
       "      <td>1095.541500</td>\n",
       "    </tr>\n",
       "    <tr>\n",
       "      <th>2</th>\n",
       "      <td>3</td>\n",
       "      <td>2008-03-01 02:00:00</td>\n",
       "      <td>1056.247500</td>\n",
       "    </tr>\n",
       "  </tbody>\n",
       "</table>\n",
       "</div>"
      ],
      "text/plain": [
       "   row_id             datetime       energy\n",
       "0       1  2008-03-01 00:00:00  1259.985563\n",
       "1       2  2008-03-01 01:00:00  1095.541500\n",
       "2       3  2008-03-01 02:00:00  1056.247500"
      ]
     },
     "execution_count": 5,
     "metadata": {},
     "output_type": "execute_result"
    }
   ],
   "source": [
    "df_train['energy'] = df_train['energy'].fillna(method='ffill')\n",
    "df_train.head(3)"
   ]
  },
  {
   "cell_type": "code",
   "execution_count": 6,
   "metadata": {
    "execution": {
     "iopub.execute_input": "2022-11-19T15:59:11.047622Z",
     "iopub.status.busy": "2022-11-19T15:59:11.047073Z",
     "iopub.status.idle": "2022-11-19T15:59:11.070791Z",
     "shell.execute_reply": "2022-11-19T15:59:11.069422Z",
     "shell.execute_reply.started": "2022-11-19T15:59:11.047572Z"
    }
   },
   "outputs": [
    {
     "name": "stdout",
     "output_type": "stream",
     "text": [
      "<class 'pandas.core.frame.DataFrame'>\n",
      "RangeIndex: 94992 entries, 0 to 94991\n",
      "Data columns (total 3 columns):\n",
      " #   Column    Non-Null Count  Dtype  \n",
      "---  ------    --------------  -----  \n",
      " 0   row_id    94992 non-null  int64  \n",
      " 1   datetime  94992 non-null  object \n",
      " 2   energy    94992 non-null  float64\n",
      "dtypes: float64(1), int64(1), object(1)\n",
      "memory usage: 2.2+ MB\n"
     ]
    }
   ],
   "source": [
    "df_train.info()"
   ]
  },
  {
   "cell_type": "code",
   "execution_count": 7,
   "metadata": {
    "execution": {
     "iopub.execute_input": "2022-11-19T15:59:11.073530Z",
     "iopub.status.busy": "2022-11-19T15:59:11.072704Z",
     "iopub.status.idle": "2022-11-19T15:59:11.088085Z",
     "shell.execute_reply": "2022-11-19T15:59:11.086751Z",
     "shell.execute_reply.started": "2022-11-19T15:59:11.073480Z"
    }
   },
   "outputs": [
    {
     "data": {
      "text/html": [
       "<div>\n",
       "<style scoped>\n",
       "    .dataframe tbody tr th:only-of-type {\n",
       "        vertical-align: middle;\n",
       "    }\n",
       "\n",
       "    .dataframe tbody tr th {\n",
       "        vertical-align: top;\n",
       "    }\n",
       "\n",
       "    .dataframe thead th {\n",
       "        text-align: right;\n",
       "    }\n",
       "</style>\n",
       "<table border=\"1\" class=\"dataframe\">\n",
       "  <thead>\n",
       "    <tr style=\"text-align: right;\">\n",
       "      <th></th>\n",
       "      <th>row_id</th>\n",
       "      <th>date_time</th>\n",
       "      <th>energy</th>\n",
       "    </tr>\n",
       "  </thead>\n",
       "  <tbody>\n",
       "    <tr>\n",
       "      <th>0</th>\n",
       "      <td>1</td>\n",
       "      <td>2008-03-01 00:00:00</td>\n",
       "      <td>1259.985563</td>\n",
       "    </tr>\n",
       "    <tr>\n",
       "      <th>1</th>\n",
       "      <td>2</td>\n",
       "      <td>2008-03-01 01:00:00</td>\n",
       "      <td>1095.541500</td>\n",
       "    </tr>\n",
       "    <tr>\n",
       "      <th>2</th>\n",
       "      <td>3</td>\n",
       "      <td>2008-03-01 02:00:00</td>\n",
       "      <td>1056.247500</td>\n",
       "    </tr>\n",
       "  </tbody>\n",
       "</table>\n",
       "</div>"
      ],
      "text/plain": [
       "   row_id            date_time       energy\n",
       "0       1  2008-03-01 00:00:00  1259.985563\n",
       "1       2  2008-03-01 01:00:00  1095.541500\n",
       "2       3  2008-03-01 02:00:00  1056.247500"
      ]
     },
     "execution_count": 7,
     "metadata": {},
     "output_type": "execute_result"
    }
   ],
   "source": [
    "df_train.rename(columns = {'datetime':'date_time'}, inplace = True)\n",
    "df_train.head(3)"
   ]
  },
  {
   "cell_type": "code",
   "execution_count": 8,
   "metadata": {
    "execution": {
     "iopub.execute_input": "2022-11-19T15:59:11.090473Z",
     "iopub.status.busy": "2022-11-19T15:59:11.089940Z",
     "iopub.status.idle": "2022-11-19T15:59:11.302061Z",
     "shell.execute_reply": "2022-11-19T15:59:11.300823Z",
     "shell.execute_reply.started": "2022-11-19T15:59:11.090306Z"
    }
   },
   "outputs": [
    {
     "data": {
      "text/html": [
       "<div>\n",
       "<style scoped>\n",
       "    .dataframe tbody tr th:only-of-type {\n",
       "        vertical-align: middle;\n",
       "    }\n",
       "\n",
       "    .dataframe tbody tr th {\n",
       "        vertical-align: top;\n",
       "    }\n",
       "\n",
       "    .dataframe thead th {\n",
       "        text-align: right;\n",
       "    }\n",
       "</style>\n",
       "<table border=\"1\" class=\"dataframe\">\n",
       "  <thead>\n",
       "    <tr style=\"text-align: right;\">\n",
       "      <th></th>\n",
       "      <th>row_id</th>\n",
       "      <th>date_time</th>\n",
       "      <th>energy</th>\n",
       "      <th>year</th>\n",
       "      <th>month</th>\n",
       "      <th>day</th>\n",
       "      <th>hour</th>\n",
       "    </tr>\n",
       "  </thead>\n",
       "  <tbody>\n",
       "    <tr>\n",
       "      <th>0</th>\n",
       "      <td>1</td>\n",
       "      <td>2008-03-01 00:00:00</td>\n",
       "      <td>1259.985563</td>\n",
       "      <td>2008</td>\n",
       "      <td>3</td>\n",
       "      <td>1</td>\n",
       "      <td>0</td>\n",
       "    </tr>\n",
       "    <tr>\n",
       "      <th>1</th>\n",
       "      <td>2</td>\n",
       "      <td>2008-03-01 01:00:00</td>\n",
       "      <td>1095.541500</td>\n",
       "      <td>2008</td>\n",
       "      <td>3</td>\n",
       "      <td>1</td>\n",
       "      <td>1</td>\n",
       "    </tr>\n",
       "    <tr>\n",
       "      <th>2</th>\n",
       "      <td>3</td>\n",
       "      <td>2008-03-01 02:00:00</td>\n",
       "      <td>1056.247500</td>\n",
       "      <td>2008</td>\n",
       "      <td>3</td>\n",
       "      <td>1</td>\n",
       "      <td>2</td>\n",
       "    </tr>\n",
       "  </tbody>\n",
       "</table>\n",
       "</div>"
      ],
      "text/plain": [
       "   row_id            date_time       energy  year  month  day  hour\n",
       "0       1  2008-03-01 00:00:00  1259.985563  2008      3    1     0\n",
       "1       2  2008-03-01 01:00:00  1095.541500  2008      3    1     1\n",
       "2       3  2008-03-01 02:00:00  1056.247500  2008      3    1     2"
      ]
     },
     "execution_count": 8,
     "metadata": {},
     "output_type": "execute_result"
    }
   ],
   "source": [
    "df_train['year'] = df_train['date_time'].str[:4]\n",
    "df_train['year'] = df_train['year'].astype('int64')\n",
    "\n",
    "df_train['month'] = df_train['date_time'].str[5:7]\n",
    "df_train['month'] = df_train['month'].astype('int64')\n",
    "\n",
    "df_train['day'] = df_train['date_time'].str[8:10]\n",
    "df_train['day'] = df_train['day'].astype('int64')\n",
    "\n",
    "df_train['hour'] = df_train['date_time'].str[11:13]\n",
    "df_train['hour'] = df_train['hour'].astype('int64')\n",
    "\n",
    "df_train.head(3)"
   ]
  },
  {
   "cell_type": "code",
   "execution_count": 9,
   "metadata": {
    "execution": {
     "iopub.execute_input": "2022-11-19T15:59:11.303904Z",
     "iopub.status.busy": "2022-11-19T15:59:11.303537Z",
     "iopub.status.idle": "2022-11-19T15:59:11.325966Z",
     "shell.execute_reply": "2022-11-19T15:59:11.324788Z",
     "shell.execute_reply.started": "2022-11-19T15:59:11.303870Z"
    }
   },
   "outputs": [
    {
     "name": "stdout",
     "output_type": "stream",
     "text": [
      "<class 'pandas.core.frame.DataFrame'>\n",
      "RangeIndex: 94992 entries, 0 to 94991\n",
      "Data columns (total 7 columns):\n",
      " #   Column     Non-Null Count  Dtype  \n",
      "---  ------     --------------  -----  \n",
      " 0   row_id     94992 non-null  int64  \n",
      " 1   date_time  94992 non-null  object \n",
      " 2   energy     94992 non-null  float64\n",
      " 3   year       94992 non-null  int64  \n",
      " 4   month      94992 non-null  int64  \n",
      " 5   day        94992 non-null  int64  \n",
      " 6   hour       94992 non-null  int64  \n",
      "dtypes: float64(1), int64(5), object(1)\n",
      "memory usage: 5.1+ MB\n"
     ]
    }
   ],
   "source": [
    "df_train.info()"
   ]
  },
  {
   "cell_type": "code",
   "execution_count": 10,
   "metadata": {
    "execution": {
     "iopub.execute_input": "2022-11-19T15:59:11.330393Z",
     "iopub.status.busy": "2022-11-19T15:59:11.329952Z",
     "iopub.status.idle": "2022-11-19T15:59:11.356519Z",
     "shell.execute_reply": "2022-11-19T15:59:11.355086Z",
     "shell.execute_reply.started": "2022-11-19T15:59:11.330344Z"
    }
   },
   "outputs": [],
   "source": [
    "df_train['date_time'] = pd.to_datetime(df_train['date_time'])"
   ]
  },
  {
   "cell_type": "code",
   "execution_count": 11,
   "metadata": {
    "execution": {
     "iopub.execute_input": "2022-11-19T15:59:11.358784Z",
     "iopub.status.busy": "2022-11-19T15:59:11.358351Z",
     "iopub.status.idle": "2022-11-19T15:59:11.392142Z",
     "shell.execute_reply": "2022-11-19T15:59:11.390953Z",
     "shell.execute_reply.started": "2022-11-19T15:59:11.358745Z"
    }
   },
   "outputs": [
    {
     "data": {
      "text/html": [
       "<div>\n",
       "<style scoped>\n",
       "    .dataframe tbody tr th:only-of-type {\n",
       "        vertical-align: middle;\n",
       "    }\n",
       "\n",
       "    .dataframe tbody tr th {\n",
       "        vertical-align: top;\n",
       "    }\n",
       "\n",
       "    .dataframe thead th {\n",
       "        text-align: right;\n",
       "    }\n",
       "</style>\n",
       "<table border=\"1\" class=\"dataframe\">\n",
       "  <thead>\n",
       "    <tr style=\"text-align: right;\">\n",
       "      <th></th>\n",
       "      <th>energy</th>\n",
       "      <th>year</th>\n",
       "      <th>month</th>\n",
       "      <th>day</th>\n",
       "      <th>hour</th>\n",
       "      <th>weekday</th>\n",
       "    </tr>\n",
       "  </thead>\n",
       "  <tbody>\n",
       "    <tr>\n",
       "      <th>0</th>\n",
       "      <td>1259.985563</td>\n",
       "      <td>2008</td>\n",
       "      <td>3</td>\n",
       "      <td>1</td>\n",
       "      <td>0</td>\n",
       "      <td>5</td>\n",
       "    </tr>\n",
       "    <tr>\n",
       "      <th>1</th>\n",
       "      <td>1095.541500</td>\n",
       "      <td>2008</td>\n",
       "      <td>3</td>\n",
       "      <td>1</td>\n",
       "      <td>1</td>\n",
       "      <td>5</td>\n",
       "    </tr>\n",
       "    <tr>\n",
       "      <th>2</th>\n",
       "      <td>1056.247500</td>\n",
       "      <td>2008</td>\n",
       "      <td>3</td>\n",
       "      <td>1</td>\n",
       "      <td>2</td>\n",
       "      <td>5</td>\n",
       "    </tr>\n",
       "  </tbody>\n",
       "</table>\n",
       "</div>"
      ],
      "text/plain": [
       "        energy  year  month  day  hour  weekday\n",
       "0  1259.985563  2008      3    1     0        5\n",
       "1  1095.541500  2008      3    1     1        5\n",
       "2  1056.247500  2008      3    1     2        5"
      ]
     },
     "execution_count": 11,
     "metadata": {},
     "output_type": "execute_result"
    }
   ],
   "source": [
    "df_train['weekday'] = df_train['date_time'].dt.dayofweek\n",
    "df_train.drop(['date_time', 'row_id'], axis = 1, inplace = True)\n",
    "df_train.head(3)"
   ]
  },
  {
   "cell_type": "code",
   "execution_count": 12,
   "metadata": {
    "execution": {
     "iopub.execute_input": "2022-11-19T15:59:11.393883Z",
     "iopub.status.busy": "2022-11-19T15:59:11.393520Z",
     "iopub.status.idle": "2022-11-19T15:59:11.409083Z",
     "shell.execute_reply": "2022-11-19T15:59:11.408012Z",
     "shell.execute_reply.started": "2022-11-19T15:59:11.393851Z"
    }
   },
   "outputs": [
    {
     "name": "stdout",
     "output_type": "stream",
     "text": [
      "<class 'pandas.core.frame.DataFrame'>\n",
      "RangeIndex: 94992 entries, 0 to 94991\n",
      "Data columns (total 6 columns):\n",
      " #   Column   Non-Null Count  Dtype  \n",
      "---  ------   --------------  -----  \n",
      " 0   energy   94992 non-null  float64\n",
      " 1   year     94992 non-null  int64  \n",
      " 2   month    94992 non-null  int64  \n",
      " 3   day      94992 non-null  int64  \n",
      " 4   hour     94992 non-null  int64  \n",
      " 5   weekday  94992 non-null  int64  \n",
      "dtypes: float64(1), int64(5)\n",
      "memory usage: 4.3 MB\n"
     ]
    }
   ],
   "source": [
    "df_train.info()"
   ]
  },
  {
   "cell_type": "code",
   "execution_count": 13,
   "metadata": {
    "execution": {
     "iopub.execute_input": "2022-11-19T15:59:11.410760Z",
     "iopub.status.busy": "2022-11-19T15:59:11.410350Z",
     "iopub.status.idle": "2022-11-19T15:59:11.435443Z",
     "shell.execute_reply": "2022-11-19T15:59:11.434477Z",
     "shell.execute_reply.started": "2022-11-19T15:59:11.410723Z"
    }
   },
   "outputs": [],
   "source": [
    "from sklearn.model_selection import train_test_split\n",
    "\n",
    "X = df_train.drop(columns = 'energy', axis = 1)\n",
    "y = df_train['energy']\n",
    "\n",
    "(X_train, X_val, y_train, y_val) = train_test_split(X, y, test_size = 0.1)"
   ]
  },
  {
   "cell_type": "code",
   "execution_count": 14,
   "metadata": {
    "execution": {
     "iopub.execute_input": "2022-11-19T15:59:11.437254Z",
     "iopub.status.busy": "2022-11-19T15:59:11.436822Z",
     "iopub.status.idle": "2022-11-19T15:59:11.448633Z",
     "shell.execute_reply": "2022-11-19T15:59:11.447391Z",
     "shell.execute_reply.started": "2022-11-19T15:59:11.437223Z"
    }
   },
   "outputs": [
    {
     "data": {
      "text/html": [
       "<div>\n",
       "<style scoped>\n",
       "    .dataframe tbody tr th:only-of-type {\n",
       "        vertical-align: middle;\n",
       "    }\n",
       "\n",
       "    .dataframe tbody tr th {\n",
       "        vertical-align: top;\n",
       "    }\n",
       "\n",
       "    .dataframe thead th {\n",
       "        text-align: right;\n",
       "    }\n",
       "</style>\n",
       "<table border=\"1\" class=\"dataframe\">\n",
       "  <thead>\n",
       "    <tr style=\"text-align: right;\">\n",
       "      <th></th>\n",
       "      <th>year</th>\n",
       "      <th>month</th>\n",
       "      <th>day</th>\n",
       "      <th>hour</th>\n",
       "      <th>weekday</th>\n",
       "    </tr>\n",
       "  </thead>\n",
       "  <tbody>\n",
       "    <tr>\n",
       "      <th>93825</th>\n",
       "      <td>2018</td>\n",
       "      <td>11</td>\n",
       "      <td>13</td>\n",
       "      <td>9</td>\n",
       "      <td>1</td>\n",
       "    </tr>\n",
       "    <tr>\n",
       "      <th>72668</th>\n",
       "      <td>2016</td>\n",
       "      <td>6</td>\n",
       "      <td>14</td>\n",
       "      <td>20</td>\n",
       "      <td>1</td>\n",
       "    </tr>\n",
       "    <tr>\n",
       "      <th>79501</th>\n",
       "      <td>2017</td>\n",
       "      <td>3</td>\n",
       "      <td>26</td>\n",
       "      <td>13</td>\n",
       "      <td>6</td>\n",
       "    </tr>\n",
       "  </tbody>\n",
       "</table>\n",
       "</div>"
      ],
      "text/plain": [
       "       year  month  day  hour  weekday\n",
       "93825  2018     11   13     9        1\n",
       "72668  2016      6   14    20        1\n",
       "79501  2017      3   26    13        6"
      ]
     },
     "execution_count": 14,
     "metadata": {},
     "output_type": "execute_result"
    }
   ],
   "source": [
    "X_train.head(3)"
   ]
  },
  {
   "cell_type": "code",
   "execution_count": 15,
   "metadata": {
    "execution": {
     "iopub.execute_input": "2022-11-19T15:59:11.450437Z",
     "iopub.status.busy": "2022-11-19T15:59:11.450069Z",
     "iopub.status.idle": "2022-11-19T15:59:11.465854Z",
     "shell.execute_reply": "2022-11-19T15:59:11.464622Z",
     "shell.execute_reply.started": "2022-11-19T15:59:11.450406Z"
    }
   },
   "outputs": [
    {
     "data": {
      "text/html": [
       "<div>\n",
       "<style scoped>\n",
       "    .dataframe tbody tr th:only-of-type {\n",
       "        vertical-align: middle;\n",
       "    }\n",
       "\n",
       "    .dataframe tbody tr th {\n",
       "        vertical-align: top;\n",
       "    }\n",
       "\n",
       "    .dataframe thead th {\n",
       "        text-align: right;\n",
       "    }\n",
       "</style>\n",
       "<table border=\"1\" class=\"dataframe\">\n",
       "  <thead>\n",
       "    <tr style=\"text-align: right;\">\n",
       "      <th></th>\n",
       "      <th>year</th>\n",
       "      <th>month</th>\n",
       "      <th>day</th>\n",
       "      <th>hour</th>\n",
       "      <th>weekday</th>\n",
       "    </tr>\n",
       "  </thead>\n",
       "  <tbody>\n",
       "    <tr>\n",
       "      <th>70899</th>\n",
       "      <td>2016</td>\n",
       "      <td>4</td>\n",
       "      <td>2</td>\n",
       "      <td>3</td>\n",
       "      <td>5</td>\n",
       "    </tr>\n",
       "    <tr>\n",
       "      <th>31996</th>\n",
       "      <td>2011</td>\n",
       "      <td>10</td>\n",
       "      <td>25</td>\n",
       "      <td>4</td>\n",
       "      <td>1</td>\n",
       "    </tr>\n",
       "    <tr>\n",
       "      <th>57280</th>\n",
       "      <td>2014</td>\n",
       "      <td>9</td>\n",
       "      <td>12</td>\n",
       "      <td>16</td>\n",
       "      <td>4</td>\n",
       "    </tr>\n",
       "  </tbody>\n",
       "</table>\n",
       "</div>"
      ],
      "text/plain": [
       "       year  month  day  hour  weekday\n",
       "70899  2016      4    2     3        5\n",
       "31996  2011     10   25     4        1\n",
       "57280  2014      9   12    16        4"
      ]
     },
     "execution_count": 15,
     "metadata": {},
     "output_type": "execute_result"
    }
   ],
   "source": [
    "X_val.head(3)"
   ]
  },
  {
   "cell_type": "code",
   "execution_count": 16,
   "metadata": {
    "execution": {
     "iopub.execute_input": "2022-11-19T15:59:11.468624Z",
     "iopub.status.busy": "2022-11-19T15:59:11.467450Z",
     "iopub.status.idle": "2022-11-19T15:59:31.538655Z",
     "shell.execute_reply": "2022-11-19T15:59:31.537273Z",
     "shell.execute_reply.started": "2022-11-19T15:59:11.468563Z"
    }
   },
   "outputs": [
    {
     "data": {
      "application/vnd.jupyter.widget-view+json": {
       "model_id": "8ae4941be7fa4a7ab6e4b9b6057382b5",
       "version_major": 2,
       "version_minor": 0
      },
      "text/plain": [
       "MetricVisualizer(layout=Layout(align_self='stretch', height='500px'))"
      ]
     },
     "metadata": {},
     "output_type": "display_data"
    },
    {
     "name": "stdout",
     "output_type": "stream",
     "text": [
      "0:\tlearn: 366.9491716\ttest: 366.2586329\tbest: 366.2586329 (0)\ttotal: 171ms\tremaining: 8m 34s\n",
      "200:\tlearn: 187.9069482\ttest: 187.7401766\tbest: 187.7401766 (200)\ttotal: 4.7s\tremaining: 1m 5s\n",
      "400:\tlearn: 160.2789979\ttest: 160.3621134\tbest: 160.3621134 (400)\ttotal: 10.1s\tremaining: 1m 5s\n",
      "600:\tlearn: 148.1003025\ttest: 148.4162524\tbest: 148.4162524 (600)\ttotal: 14.3s\tremaining: 57.3s\n",
      "800:\tlearn: 139.9755964\ttest: 140.4522885\tbest: 140.4522885 (800)\ttotal: 18.5s\tremaining: 50.9s\n",
      "1000:\tlearn: 134.1494004\ttest: 134.8201593\tbest: 134.8201593 (1000)\ttotal: 23.8s\tremaining: 47.6s\n",
      "1200:\tlearn: 129.6568518\ttest: 130.5097899\tbest: 130.5097899 (1200)\ttotal: 28.7s\tremaining: 43s\n",
      "1400:\tlearn: 125.5645233\ttest: 126.5819455\tbest: 126.5819455 (1400)\ttotal: 33.2s\tremaining: 37.9s\n",
      "1600:\tlearn: 122.1179753\ttest: 123.2800521\tbest: 123.2800521 (1600)\ttotal: 38.2s\tremaining: 33.4s\n",
      "1800:\tlearn: 119.1938677\ttest: 120.4522334\tbest: 120.4522334 (1800)\ttotal: 43.5s\tremaining: 29s\n",
      "2000:\tlearn: 116.6851022\ttest: 118.0868302\tbest: 118.0868302 (2000)\ttotal: 48.4s\tremaining: 24.1s\n",
      "2200:\tlearn: 114.4525760\ttest: 115.9534750\tbest: 115.9534750 (2200)\ttotal: 53.5s\tremaining: 19.4s\n",
      "2400:\tlearn: 112.4656929\ttest: 114.0247953\tbest: 114.0247953 (2400)\ttotal: 59.1s\tremaining: 14.7s\n",
      "2600:\tlearn: 110.6578044\ttest: 112.2932373\tbest: 112.2932373 (2600)\ttotal: 1m 3s\tremaining: 9.8s\n",
      "2800:\tlearn: 109.0350313\ttest: 110.7334659\tbest: 110.7334659 (2800)\ttotal: 1m 9s\tremaining: 4.9s\n",
      "2999:\tlearn: 107.4159818\ttest: 109.1676828\tbest: 109.1676828 (2999)\ttotal: 1m 14s\tremaining: 0us\n",
      "\n",
      "bestTest = 109.1676828\n",
      "bestIteration = 2999\n",
      "\n"
     ]
    }
   ],
   "source": [
    "from catboost import CatBoostRegressor as cbr\n",
    "\n",
    "cat = cbr(iterations=3000, learning_rate=0.01, depth=7, l2_leaf_reg= 3, loss_function='RMSE') \n",
    "\n",
    "catreg = cat.fit(X_train,y_train,verbose_eval=200,plot=True,eval_set=(X_val,y_val))"
   ]
  },
  {
   "cell_type": "code",
   "execution_count": null,
   "metadata": {},
   "outputs": [],
   "source": []
  },
  {
   "cell_type": "code",
   "execution_count": 17,
   "metadata": {
    "execution": {
     "iopub.execute_input": "2022-11-19T15:59:31.540776Z",
     "iopub.status.busy": "2022-11-19T15:59:31.540266Z",
     "iopub.status.idle": "2022-11-19T15:59:31.577285Z",
     "shell.execute_reply": "2022-11-19T15:59:31.576011Z",
     "shell.execute_reply.started": "2022-11-19T15:59:31.540727Z"
    }
   },
   "outputs": [
    {
     "data": {
      "text/html": [
       "<div>\n",
       "<style scoped>\n",
       "    .dataframe tbody tr th:only-of-type {\n",
       "        vertical-align: middle;\n",
       "    }\n",
       "\n",
       "    .dataframe tbody tr th {\n",
       "        vertical-align: top;\n",
       "    }\n",
       "\n",
       "    .dataframe thead th {\n",
       "        text-align: right;\n",
       "    }\n",
       "</style>\n",
       "<table border=\"1\" class=\"dataframe\">\n",
       "  <thead>\n",
       "    <tr style=\"text-align: right;\">\n",
       "      <th></th>\n",
       "      <th>row_id</th>\n",
       "      <th>datetime</th>\n",
       "    </tr>\n",
       "  </thead>\n",
       "  <tbody>\n",
       "    <tr>\n",
       "      <th>0</th>\n",
       "      <td>94993</td>\n",
       "      <td>2019-01-01 00:00:00</td>\n",
       "    </tr>\n",
       "    <tr>\n",
       "      <th>1</th>\n",
       "      <td>94994</td>\n",
       "      <td>2019-01-01 01:00:00</td>\n",
       "    </tr>\n",
       "    <tr>\n",
       "      <th>2</th>\n",
       "      <td>94995</td>\n",
       "      <td>2019-01-01 02:00:00</td>\n",
       "    </tr>\n",
       "  </tbody>\n",
       "</table>\n",
       "</div>"
      ],
      "text/plain": [
       "   row_id             datetime\n",
       "0   94993  2019-01-01 00:00:00\n",
       "1   94994  2019-01-01 01:00:00\n",
       "2   94995  2019-01-01 02:00:00"
      ]
     },
     "execution_count": 17,
     "metadata": {},
     "output_type": "execute_result"
    }
   ],
   "source": [
    "df_test = pd.read_csv('test_WudNWDM.csv' )\n",
    "df_test.head(3)"
   ]
  },
  {
   "cell_type": "code",
   "execution_count": 18,
   "metadata": {
    "execution": {
     "iopub.execute_input": "2022-11-19T15:59:31.579528Z",
     "iopub.status.busy": "2022-11-19T15:59:31.579023Z",
     "iopub.status.idle": "2022-11-19T15:59:31.595184Z",
     "shell.execute_reply": "2022-11-19T15:59:31.593833Z",
     "shell.execute_reply.started": "2022-11-19T15:59:31.579480Z"
    }
   },
   "outputs": [
    {
     "name": "stdout",
     "output_type": "stream",
     "text": [
      "<class 'pandas.core.frame.DataFrame'>\n",
      "RangeIndex: 26304 entries, 0 to 26303\n",
      "Data columns (total 2 columns):\n",
      " #   Column    Non-Null Count  Dtype \n",
      "---  ------    --------------  ----- \n",
      " 0   row_id    26304 non-null  int64 \n",
      " 1   datetime  26304 non-null  object\n",
      "dtypes: int64(1), object(1)\n",
      "memory usage: 411.1+ KB\n"
     ]
    }
   ],
   "source": [
    "df_test.info()"
   ]
  },
  {
   "cell_type": "code",
   "execution_count": 19,
   "metadata": {
    "execution": {
     "iopub.execute_input": "2022-11-19T15:59:31.597466Z",
     "iopub.status.busy": "2022-11-19T15:59:31.596948Z",
     "iopub.status.idle": "2022-11-19T15:59:31.615850Z",
     "shell.execute_reply": "2022-11-19T15:59:31.614663Z",
     "shell.execute_reply.started": "2022-11-19T15:59:31.597418Z"
    }
   },
   "outputs": [
    {
     "data": {
      "text/html": [
       "<div>\n",
       "<style scoped>\n",
       "    .dataframe tbody tr th:only-of-type {\n",
       "        vertical-align: middle;\n",
       "    }\n",
       "\n",
       "    .dataframe tbody tr th {\n",
       "        vertical-align: top;\n",
       "    }\n",
       "\n",
       "    .dataframe thead th {\n",
       "        text-align: right;\n",
       "    }\n",
       "</style>\n",
       "<table border=\"1\" class=\"dataframe\">\n",
       "  <thead>\n",
       "    <tr style=\"text-align: right;\">\n",
       "      <th></th>\n",
       "      <th>row_id</th>\n",
       "      <th>date_time</th>\n",
       "    </tr>\n",
       "  </thead>\n",
       "  <tbody>\n",
       "    <tr>\n",
       "      <th>0</th>\n",
       "      <td>94993</td>\n",
       "      <td>2019-01-01 00:00:00</td>\n",
       "    </tr>\n",
       "    <tr>\n",
       "      <th>1</th>\n",
       "      <td>94994</td>\n",
       "      <td>2019-01-01 01:00:00</td>\n",
       "    </tr>\n",
       "    <tr>\n",
       "      <th>2</th>\n",
       "      <td>94995</td>\n",
       "      <td>2019-01-01 02:00:00</td>\n",
       "    </tr>\n",
       "  </tbody>\n",
       "</table>\n",
       "</div>"
      ],
      "text/plain": [
       "   row_id            date_time\n",
       "0   94993  2019-01-01 00:00:00\n",
       "1   94994  2019-01-01 01:00:00\n",
       "2   94995  2019-01-01 02:00:00"
      ]
     },
     "execution_count": 19,
     "metadata": {},
     "output_type": "execute_result"
    }
   ],
   "source": [
    "df_test.rename(columns = {'datetime':'date_time'}, inplace = True)\n",
    "df_test.head(3)"
   ]
  },
  {
   "cell_type": "code",
   "execution_count": 20,
   "metadata": {
    "execution": {
     "iopub.execute_input": "2022-11-19T15:59:31.617640Z",
     "iopub.status.busy": "2022-11-19T15:59:31.617017Z",
     "iopub.status.idle": "2022-11-19T15:59:31.692569Z",
     "shell.execute_reply": "2022-11-19T15:59:31.691549Z",
     "shell.execute_reply.started": "2022-11-19T15:59:31.617606Z"
    }
   },
   "outputs": [
    {
     "data": {
      "text/html": [
       "<div>\n",
       "<style scoped>\n",
       "    .dataframe tbody tr th:only-of-type {\n",
       "        vertical-align: middle;\n",
       "    }\n",
       "\n",
       "    .dataframe tbody tr th {\n",
       "        vertical-align: top;\n",
       "    }\n",
       "\n",
       "    .dataframe thead th {\n",
       "        text-align: right;\n",
       "    }\n",
       "</style>\n",
       "<table border=\"1\" class=\"dataframe\">\n",
       "  <thead>\n",
       "    <tr style=\"text-align: right;\">\n",
       "      <th></th>\n",
       "      <th>row_id</th>\n",
       "      <th>date_time</th>\n",
       "      <th>year</th>\n",
       "      <th>month</th>\n",
       "      <th>day</th>\n",
       "      <th>hour</th>\n",
       "    </tr>\n",
       "  </thead>\n",
       "  <tbody>\n",
       "    <tr>\n",
       "      <th>0</th>\n",
       "      <td>94993</td>\n",
       "      <td>2019-01-01 00:00:00</td>\n",
       "      <td>2019</td>\n",
       "      <td>1</td>\n",
       "      <td>1</td>\n",
       "      <td>0</td>\n",
       "    </tr>\n",
       "    <tr>\n",
       "      <th>1</th>\n",
       "      <td>94994</td>\n",
       "      <td>2019-01-01 01:00:00</td>\n",
       "      <td>2019</td>\n",
       "      <td>1</td>\n",
       "      <td>1</td>\n",
       "      <td>1</td>\n",
       "    </tr>\n",
       "    <tr>\n",
       "      <th>2</th>\n",
       "      <td>94995</td>\n",
       "      <td>2019-01-01 02:00:00</td>\n",
       "      <td>2019</td>\n",
       "      <td>1</td>\n",
       "      <td>1</td>\n",
       "      <td>2</td>\n",
       "    </tr>\n",
       "  </tbody>\n",
       "</table>\n",
       "</div>"
      ],
      "text/plain": [
       "   row_id            date_time  year  month  day  hour\n",
       "0   94993  2019-01-01 00:00:00  2019      1    1     0\n",
       "1   94994  2019-01-01 01:00:00  2019      1    1     1\n",
       "2   94995  2019-01-01 02:00:00  2019      1    1     2"
      ]
     },
     "execution_count": 20,
     "metadata": {},
     "output_type": "execute_result"
    }
   ],
   "source": [
    "df_test['year'] = df_test['date_time'].str[:4]\n",
    "df_test['year'] = df_test['year'].astype('int64')\n",
    "\n",
    "df_test['month'] = df_test['date_time'].str[5:7]\n",
    "df_test['month'] = df_test['month'].astype('int64')\n",
    "\n",
    "df_test['day'] = df_test['date_time'].str[8:10]\n",
    "df_test['day'] = df_test['day'].astype('int64')\n",
    "\n",
    "df_test['hour'] = df_test['date_time'].str[11:13]\n",
    "df_test['hour'] = df_test['hour'].astype('int64')\n",
    "\n",
    "df_test.head(3)"
   ]
  },
  {
   "cell_type": "code",
   "execution_count": 21,
   "metadata": {
    "execution": {
     "iopub.execute_input": "2022-11-19T15:59:31.694133Z",
     "iopub.status.busy": "2022-11-19T15:59:31.693812Z",
     "iopub.status.idle": "2022-11-19T15:59:31.710598Z",
     "shell.execute_reply": "2022-11-19T15:59:31.709398Z",
     "shell.execute_reply.started": "2022-11-19T15:59:31.694105Z"
    }
   },
   "outputs": [
    {
     "name": "stdout",
     "output_type": "stream",
     "text": [
      "<class 'pandas.core.frame.DataFrame'>\n",
      "RangeIndex: 26304 entries, 0 to 26303\n",
      "Data columns (total 6 columns):\n",
      " #   Column     Non-Null Count  Dtype \n",
      "---  ------     --------------  ----- \n",
      " 0   row_id     26304 non-null  int64 \n",
      " 1   date_time  26304 non-null  object\n",
      " 2   year       26304 non-null  int64 \n",
      " 3   month      26304 non-null  int64 \n",
      " 4   day        26304 non-null  int64 \n",
      " 5   hour       26304 non-null  int64 \n",
      "dtypes: int64(5), object(1)\n",
      "memory usage: 1.2+ MB\n"
     ]
    }
   ],
   "source": [
    "df_test.info()"
   ]
  },
  {
   "cell_type": "code",
   "execution_count": 22,
   "metadata": {
    "execution": {
     "iopub.execute_input": "2022-11-19T15:59:31.712917Z",
     "iopub.status.busy": "2022-11-19T15:59:31.712557Z",
     "iopub.status.idle": "2022-11-19T15:59:31.725544Z",
     "shell.execute_reply": "2022-11-19T15:59:31.724150Z",
     "shell.execute_reply.started": "2022-11-19T15:59:31.712886Z"
    }
   },
   "outputs": [],
   "source": [
    "df_test['date_time'] = pd.to_datetime(df_test['date_time'])"
   ]
  },
  {
   "cell_type": "code",
   "execution_count": 23,
   "metadata": {
    "execution": {
     "iopub.execute_input": "2022-11-19T15:59:31.727722Z",
     "iopub.status.busy": "2022-11-19T15:59:31.727225Z",
     "iopub.status.idle": "2022-11-19T15:59:31.754978Z",
     "shell.execute_reply": "2022-11-19T15:59:31.753907Z",
     "shell.execute_reply.started": "2022-11-19T15:59:31.727672Z"
    }
   },
   "outputs": [
    {
     "data": {
      "text/html": [
       "<div>\n",
       "<style scoped>\n",
       "    .dataframe tbody tr th:only-of-type {\n",
       "        vertical-align: middle;\n",
       "    }\n",
       "\n",
       "    .dataframe tbody tr th {\n",
       "        vertical-align: top;\n",
       "    }\n",
       "\n",
       "    .dataframe thead th {\n",
       "        text-align: right;\n",
       "    }\n",
       "</style>\n",
       "<table border=\"1\" class=\"dataframe\">\n",
       "  <thead>\n",
       "    <tr style=\"text-align: right;\">\n",
       "      <th></th>\n",
       "      <th>year</th>\n",
       "      <th>month</th>\n",
       "      <th>day</th>\n",
       "      <th>hour</th>\n",
       "      <th>weekday</th>\n",
       "    </tr>\n",
       "  </thead>\n",
       "  <tbody>\n",
       "    <tr>\n",
       "      <th>0</th>\n",
       "      <td>2019</td>\n",
       "      <td>1</td>\n",
       "      <td>1</td>\n",
       "      <td>0</td>\n",
       "      <td>1</td>\n",
       "    </tr>\n",
       "    <tr>\n",
       "      <th>1</th>\n",
       "      <td>2019</td>\n",
       "      <td>1</td>\n",
       "      <td>1</td>\n",
       "      <td>1</td>\n",
       "      <td>1</td>\n",
       "    </tr>\n",
       "    <tr>\n",
       "      <th>2</th>\n",
       "      <td>2019</td>\n",
       "      <td>1</td>\n",
       "      <td>1</td>\n",
       "      <td>2</td>\n",
       "      <td>1</td>\n",
       "    </tr>\n",
       "  </tbody>\n",
       "</table>\n",
       "</div>"
      ],
      "text/plain": [
       "   year  month  day  hour  weekday\n",
       "0  2019      1    1     0        1\n",
       "1  2019      1    1     1        1\n",
       "2  2019      1    1     2        1"
      ]
     },
     "execution_count": 23,
     "metadata": {},
     "output_type": "execute_result"
    }
   ],
   "source": [
    "df_test['weekday'] = df_test['date_time'].dt.dayofweek\n",
    "df_test2 = df_test.drop(['date_time', 'row_id'], axis = 1)\n",
    "df_test2.head(3)"
   ]
  },
  {
   "cell_type": "code",
   "execution_count": 24,
   "metadata": {
    "execution": {
     "iopub.execute_input": "2022-11-19T15:59:31.758655Z",
     "iopub.status.busy": "2022-11-19T15:59:31.757365Z",
     "iopub.status.idle": "2022-11-19T15:59:31.773943Z",
     "shell.execute_reply": "2022-11-19T15:59:31.772723Z",
     "shell.execute_reply.started": "2022-11-19T15:59:31.758604Z"
    }
   },
   "outputs": [
    {
     "name": "stdout",
     "output_type": "stream",
     "text": [
      "<class 'pandas.core.frame.DataFrame'>\n",
      "RangeIndex: 26304 entries, 0 to 26303\n",
      "Data columns (total 5 columns):\n",
      " #   Column   Non-Null Count  Dtype\n",
      "---  ------   --------------  -----\n",
      " 0   year     26304 non-null  int64\n",
      " 1   month    26304 non-null  int64\n",
      " 2   day      26304 non-null  int64\n",
      " 3   hour     26304 non-null  int64\n",
      " 4   weekday  26304 non-null  int64\n",
      "dtypes: int64(5)\n",
      "memory usage: 1.0 MB\n"
     ]
    }
   ],
   "source": [
    "df_test2.info()"
   ]
  },
  {
   "cell_type": "code",
   "execution_count": 25,
   "metadata": {
    "execution": {
     "iopub.execute_input": "2022-11-19T15:59:31.776731Z",
     "iopub.status.busy": "2022-11-19T15:59:31.776207Z",
     "iopub.status.idle": "2022-11-19T15:59:31.831554Z",
     "shell.execute_reply": "2022-11-19T15:59:31.830146Z",
     "shell.execute_reply.started": "2022-11-19T15:59:31.776680Z"
    }
   },
   "outputs": [],
   "source": [
    "# performing predictions on the test dataset\n",
    "X_test=df_test2.to_numpy()\n",
    "y_pred_test = catreg.predict(X_test)"
   ]
  },
  {
   "cell_type": "code",
   "execution_count": 26,
   "metadata": {
    "execution": {
     "iopub.execute_input": "2022-11-19T15:59:31.833259Z",
     "iopub.status.busy": "2022-11-19T15:59:31.832848Z",
     "iopub.status.idle": "2022-11-19T15:59:31.847047Z",
     "shell.execute_reply": "2022-11-19T15:59:31.842923Z",
     "shell.execute_reply.started": "2022-11-19T15:59:31.833223Z"
    }
   },
   "outputs": [
    {
     "data": {
      "text/plain": [
       "array([1768.78015858, 1650.81541027, 1571.03652073, ..., 2420.69005267,\n",
       "       2371.21384398, 2200.99740992])"
      ]
     },
     "execution_count": 26,
     "metadata": {},
     "output_type": "execute_result"
    }
   ],
   "source": [
    "y_pred_test"
   ]
  },
  {
   "cell_type": "code",
   "execution_count": 27,
   "metadata": {
    "execution": {
     "iopub.execute_input": "2022-11-19T15:59:31.849518Z",
     "iopub.status.busy": "2022-11-19T15:59:31.848908Z",
     "iopub.status.idle": "2022-11-19T15:59:31.863401Z",
     "shell.execute_reply": "2022-11-19T15:59:31.861436Z",
     "shell.execute_reply.started": "2022-11-19T15:59:31.849462Z"
    }
   },
   "outputs": [
    {
     "data": {
      "text/html": [
       "<div>\n",
       "<style scoped>\n",
       "    .dataframe tbody tr th:only-of-type {\n",
       "        vertical-align: middle;\n",
       "    }\n",
       "\n",
       "    .dataframe tbody tr th {\n",
       "        vertical-align: top;\n",
       "    }\n",
       "\n",
       "    .dataframe thead th {\n",
       "        text-align: right;\n",
       "    }\n",
       "</style>\n",
       "<table border=\"1\" class=\"dataframe\">\n",
       "  <thead>\n",
       "    <tr style=\"text-align: right;\">\n",
       "      <th></th>\n",
       "      <th>energy</th>\n",
       "    </tr>\n",
       "  </thead>\n",
       "  <tbody>\n",
       "    <tr>\n",
       "      <th>0</th>\n",
       "      <td>1768.780159</td>\n",
       "    </tr>\n",
       "    <tr>\n",
       "      <th>1</th>\n",
       "      <td>1650.815410</td>\n",
       "    </tr>\n",
       "    <tr>\n",
       "      <th>2</th>\n",
       "      <td>1571.036521</td>\n",
       "    </tr>\n",
       "  </tbody>\n",
       "</table>\n",
       "</div>"
      ],
      "text/plain": [
       "        energy\n",
       "0  1768.780159\n",
       "1  1650.815410\n",
       "2  1571.036521"
      ]
     },
     "execution_count": 27,
     "metadata": {},
     "output_type": "execute_result"
    }
   ],
   "source": [
    "df_energy = pd.DataFrame(y_pred_test, columns =['energy'])\n",
    "df_energy.head(3)"
   ]
  },
  {
   "cell_type": "code",
   "execution_count": 28,
   "metadata": {
    "execution": {
     "iopub.execute_input": "2022-11-19T15:59:31.872191Z",
     "iopub.status.busy": "2022-11-19T15:59:31.870972Z",
     "iopub.status.idle": "2022-11-19T15:59:31.886828Z",
     "shell.execute_reply": "2022-11-19T15:59:31.885580Z",
     "shell.execute_reply.started": "2022-11-19T15:59:31.872120Z"
    }
   },
   "outputs": [
    {
     "data": {
      "text/html": [
       "<div>\n",
       "<style scoped>\n",
       "    .dataframe tbody tr th:only-of-type {\n",
       "        vertical-align: middle;\n",
       "    }\n",
       "\n",
       "    .dataframe tbody tr th {\n",
       "        vertical-align: top;\n",
       "    }\n",
       "\n",
       "    .dataframe thead th {\n",
       "        text-align: right;\n",
       "    }\n",
       "</style>\n",
       "<table border=\"1\" class=\"dataframe\">\n",
       "  <thead>\n",
       "    <tr style=\"text-align: right;\">\n",
       "      <th></th>\n",
       "      <th>row_id</th>\n",
       "    </tr>\n",
       "  </thead>\n",
       "  <tbody>\n",
       "    <tr>\n",
       "      <th>0</th>\n",
       "      <td>94993</td>\n",
       "    </tr>\n",
       "    <tr>\n",
       "      <th>1</th>\n",
       "      <td>94994</td>\n",
       "    </tr>\n",
       "    <tr>\n",
       "      <th>2</th>\n",
       "      <td>94995</td>\n",
       "    </tr>\n",
       "  </tbody>\n",
       "</table>\n",
       "</div>"
      ],
      "text/plain": [
       "   row_id\n",
       "0   94993\n",
       "1   94994\n",
       "2   94995"
      ]
     },
     "execution_count": 28,
     "metadata": {},
     "output_type": "execute_result"
    }
   ],
   "source": [
    "df_row_id = df_test.drop(['date_time', 'year', 'month', 'day', 'hour', 'weekday'], axis = 1)\n",
    "df_row_id.head(3)"
   ]
  },
  {
   "cell_type": "code",
   "execution_count": 29,
   "metadata": {
    "execution": {
     "iopub.execute_input": "2022-11-19T15:59:31.889759Z",
     "iopub.status.busy": "2022-11-19T15:59:31.888834Z",
     "iopub.status.idle": "2022-11-19T15:59:31.912142Z",
     "shell.execute_reply": "2022-11-19T15:59:31.910472Z",
     "shell.execute_reply.started": "2022-11-19T15:59:31.889713Z"
    }
   },
   "outputs": [
    {
     "data": {
      "text/html": [
       "<div>\n",
       "<style scoped>\n",
       "    .dataframe tbody tr th:only-of-type {\n",
       "        vertical-align: middle;\n",
       "    }\n",
       "\n",
       "    .dataframe tbody tr th {\n",
       "        vertical-align: top;\n",
       "    }\n",
       "\n",
       "    .dataframe thead th {\n",
       "        text-align: right;\n",
       "    }\n",
       "</style>\n",
       "<table border=\"1\" class=\"dataframe\">\n",
       "  <thead>\n",
       "    <tr style=\"text-align: right;\">\n",
       "      <th></th>\n",
       "      <th>row_id</th>\n",
       "      <th>energy</th>\n",
       "    </tr>\n",
       "  </thead>\n",
       "  <tbody>\n",
       "    <tr>\n",
       "      <th>0</th>\n",
       "      <td>94993</td>\n",
       "      <td>1768.780159</td>\n",
       "    </tr>\n",
       "    <tr>\n",
       "      <th>1</th>\n",
       "      <td>94994</td>\n",
       "      <td>1650.815410</td>\n",
       "    </tr>\n",
       "    <tr>\n",
       "      <th>2</th>\n",
       "      <td>94995</td>\n",
       "      <td>1571.036521</td>\n",
       "    </tr>\n",
       "    <tr>\n",
       "      <th>3</th>\n",
       "      <td>94996</td>\n",
       "      <td>1510.840389</td>\n",
       "    </tr>\n",
       "    <tr>\n",
       "      <th>4</th>\n",
       "      <td>94997</td>\n",
       "      <td>1501.981053</td>\n",
       "    </tr>\n",
       "    <tr>\n",
       "      <th>...</th>\n",
       "      <td>...</td>\n",
       "      <td>...</td>\n",
       "    </tr>\n",
       "    <tr>\n",
       "      <th>26299</th>\n",
       "      <td>121292</td>\n",
       "      <td>2512.951425</td>\n",
       "    </tr>\n",
       "    <tr>\n",
       "      <th>26300</th>\n",
       "      <td>121293</td>\n",
       "      <td>2455.352124</td>\n",
       "    </tr>\n",
       "    <tr>\n",
       "      <th>26301</th>\n",
       "      <td>121294</td>\n",
       "      <td>2420.690053</td>\n",
       "    </tr>\n",
       "    <tr>\n",
       "      <th>26302</th>\n",
       "      <td>121295</td>\n",
       "      <td>2371.213844</td>\n",
       "    </tr>\n",
       "    <tr>\n",
       "      <th>26303</th>\n",
       "      <td>121296</td>\n",
       "      <td>2200.997410</td>\n",
       "    </tr>\n",
       "  </tbody>\n",
       "</table>\n",
       "<p>26304 rows × 2 columns</p>\n",
       "</div>"
      ],
      "text/plain": [
       "       row_id       energy\n",
       "0       94993  1768.780159\n",
       "1       94994  1650.815410\n",
       "2       94995  1571.036521\n",
       "3       94996  1510.840389\n",
       "4       94997  1501.981053\n",
       "...       ...          ...\n",
       "26299  121292  2512.951425\n",
       "26300  121293  2455.352124\n",
       "26301  121294  2420.690053\n",
       "26302  121295  2371.213844\n",
       "26303  121296  2200.997410\n",
       "\n",
       "[26304 rows x 2 columns]"
      ]
     },
     "execution_count": 29,
     "metadata": {},
     "output_type": "execute_result"
    }
   ],
   "source": [
    "df_concatenated = pd.concat([df_row_id, df_energy], axis=1)\n",
    "df_submission = df_concatenated\n",
    "df_submission"
   ]
  },
  {
   "cell_type": "code",
   "execution_count": 30,
   "metadata": {
    "execution": {
     "iopub.execute_input": "2022-11-19T15:59:31.915450Z",
     "iopub.status.busy": "2022-11-19T15:59:31.915026Z",
     "iopub.status.idle": "2022-11-19T15:59:32.001720Z",
     "shell.execute_reply": "2022-11-19T15:59:32.000167Z",
     "shell.execute_reply.started": "2022-11-19T15:59:31.915413Z"
    }
   },
   "outputs": [],
   "source": [
    "df_submission.to_csv('submission.csv')"
   ]
  },
  {
   "cell_type": "code",
   "execution_count": null,
   "metadata": {},
   "outputs": [],
   "source": []
  }
 ],
 "metadata": {
  "kernelspec": {
   "display_name": "Python 3 (ipykernel)",
   "language": "python",
   "name": "python3"
  },
  "language_info": {
   "codemirror_mode": {
    "name": "ipython",
    "version": 3
   },
   "file_extension": ".py",
   "mimetype": "text/x-python",
   "name": "python",
   "nbconvert_exporter": "python",
   "pygments_lexer": "ipython3",
   "version": "3.9.12"
  }
 },
 "nbformat": 4,
 "nbformat_minor": 4
}
